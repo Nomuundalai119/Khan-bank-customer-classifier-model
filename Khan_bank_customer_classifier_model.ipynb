{
  "nbformat": 4,
  "nbformat_minor": 0,
  "metadata": {
    "colab": {
      "name": "Khan bank customer classifier model.ipynb",
      "provenance": []
    },
    "kernelspec": {
      "name": "python3",
      "display_name": "Python 3"
    },
    "language_info": {
      "name": "python"
    },
    "accelerator": "GPU"
  },
  "cells": [
    {
      "cell_type": "markdown",
      "metadata": {
        "id": "A0bmL5sOAU6r"
      },
      "source": [
        "# Khaan Bank Customer risk prediction"
      ]
    },
    {
      "cell_type": "markdown",
      "metadata": {
        "id": "AfirdKm2Ar0B"
      },
      "source": [
        "Using fast.ai tabular modelling to predict Khaan bank customers' risk type"
      ]
    },
    {
      "cell_type": "markdown",
      "metadata": {
        "id": "HHROuC_OA3ak"
      },
      "source": [
        "## Import and Load packages"
      ]
    },
    {
      "cell_type": "code",
      "metadata": {
        "colab": {
          "base_uri": "https://localhost:8080/"
        },
        "id": "j6heWxBI_xl7",
        "outputId": "8ce11a83-edde-417d-dd83-a0ec6c900eca"
      },
      "source": [
        "!pip install -Uqq fastai --upgrade\n",
        "!pip install -Uqq fastcore --upgrade\n",
        "!pip install -Uqq kaggle --upgrade!"
      ],
      "execution_count": 3,
      "outputs": [
        {
          "output_type": "stream",
          "text": [
            "\u001b[K     |████████████████████████████████| 194kB 6.0MB/s \n",
            "\u001b[K     |████████████████████████████████| 12.8MB 264kB/s \n",
            "\u001b[K     |████████████████████████████████| 61kB 5.9MB/s \n",
            "\u001b[K     |████████████████████████████████| 776.8MB 17kB/s \n",
            "\u001b[31mERROR: torchtext 0.9.1 has requirement torch==1.8.1, but you'll have torch 1.7.1 which is incompatible.\u001b[0m\n",
            "\u001b[?25h\n",
            "Usage:   \n",
            "  pip3 install [options] <requirement specifier> [package-index-options] ...\n",
            "  pip3 install [options] -r <requirements file> [package-index-options] ...\n",
            "  pip3 install [options] [-e] <vcs project url> ...\n",
            "  pip3 install [options] [-e] <local project path> ...\n",
            "  pip3 install [options] <archive url/path> ...\n",
            "\n",
            "no such option: --upgrade!\n"
          ],
          "name": "stdout"
        }
      ]
    },
    {
      "cell_type": "code",
      "metadata": {
        "colab": {
          "base_uri": "https://localhost:8080/"
        },
        "id": "Hj9fTBybAg53",
        "outputId": "e33ec0e2-793d-4415-e6b7-9d6400f65491"
      },
      "source": [
        "import fastai\n",
        "import fastcore\n",
        "print('Fast.ai version:', fastai.__version__)\n",
        "print('Fastcore version:', fastcore.__version__)"
      ],
      "execution_count": 4,
      "outputs": [
        {
          "output_type": "stream",
          "text": [
            "Fast.ai version: 1.0.61\n",
            "Fastcore version: 1.3.19\n"
          ],
          "name": "stdout"
        }
      ]
    },
    {
      "cell_type": "code",
      "metadata": {
        "id": "WvnvceAeAiZs"
      },
      "source": [
        "from fastai.tabular.all import *\n",
        "import pandas as pd \n",
        "import numpy as np"
      ],
      "execution_count": 7,
      "outputs": []
    },
    {
      "cell_type": "code",
      "metadata": {
        "colab": {
          "base_uri": "https://localhost:8080/"
        },
        "id": "KY5W6D5nApvM",
        "outputId": "c9309962-baf1-4afb-8967-79dfe465f016"
      },
      "source": [
        "!nvidia-smi"
      ],
      "execution_count": 62,
      "outputs": [
        {
          "output_type": "stream",
          "text": [
            "NVIDIA-SMI has failed because it couldn't communicate with the NVIDIA driver. Make sure that the latest NVIDIA driver is installed and running.\n",
            "\n"
          ],
          "name": "stdout"
        }
      ]
    },
    {
      "cell_type": "markdown",
      "metadata": {
        "id": "xvqXfHMgA-iX"
      },
      "source": [
        "## Load dataset\n",
        "##### Found this dataset from github. "
      ]
    },
    {
      "cell_type": "code",
      "metadata": {
        "colab": {
          "base_uri": "https://localhost:8080/",
          "height": 204
        },
        "id": "PQQeVLxEBETI",
        "outputId": "fe7ad1d4-613b-49ec-aa5d-1c3eb137e155"
      },
      "source": [
        "df = pd.read_csv('/content/drive/MyDrive/Colab Notebooks/khan/Khan.csv')\n",
        "df.head()"
      ],
      "execution_count": 63,
      "outputs": [
        {
          "output_type": "execute_result",
          "data": {
            "text/html": [
              "<div>\n",
              "<style scoped>\n",
              "    .dataframe tbody tr th:only-of-type {\n",
              "        vertical-align: middle;\n",
              "    }\n",
              "\n",
              "    .dataframe tbody tr th {\n",
              "        vertical-align: top;\n",
              "    }\n",
              "\n",
              "    .dataframe thead th {\n",
              "        text-align: right;\n",
              "    }\n",
              "</style>\n",
              "<table border=\"1\" class=\"dataframe\">\n",
              "  <thead>\n",
              "    <tr style=\"text-align: right;\">\n",
              "      <th></th>\n",
              "      <th>Age</th>\n",
              "      <th>Sex</th>\n",
              "      <th>Job</th>\n",
              "      <th>Housing</th>\n",
              "      <th>Saving accounts</th>\n",
              "      <th>Checking account</th>\n",
              "      <th>Credit amount</th>\n",
              "      <th>Duration</th>\n",
              "      <th>Purpose</th>\n",
              "      <th>Risk</th>\n",
              "    </tr>\n",
              "  </thead>\n",
              "  <tbody>\n",
              "    <tr>\n",
              "      <th>0</th>\n",
              "      <td>67</td>\n",
              "      <td>male</td>\n",
              "      <td>2</td>\n",
              "      <td>own</td>\n",
              "      <td>NaN</td>\n",
              "      <td>little</td>\n",
              "      <td>1169</td>\n",
              "      <td>6</td>\n",
              "      <td>radio/TV</td>\n",
              "      <td>good</td>\n",
              "    </tr>\n",
              "    <tr>\n",
              "      <th>1</th>\n",
              "      <td>22</td>\n",
              "      <td>female</td>\n",
              "      <td>2</td>\n",
              "      <td>own</td>\n",
              "      <td>little</td>\n",
              "      <td>moderate</td>\n",
              "      <td>5951</td>\n",
              "      <td>48</td>\n",
              "      <td>radio/TV</td>\n",
              "      <td>bad</td>\n",
              "    </tr>\n",
              "    <tr>\n",
              "      <th>2</th>\n",
              "      <td>49</td>\n",
              "      <td>male</td>\n",
              "      <td>1</td>\n",
              "      <td>own</td>\n",
              "      <td>little</td>\n",
              "      <td>NaN</td>\n",
              "      <td>2096</td>\n",
              "      <td>12</td>\n",
              "      <td>education</td>\n",
              "      <td>good</td>\n",
              "    </tr>\n",
              "    <tr>\n",
              "      <th>3</th>\n",
              "      <td>45</td>\n",
              "      <td>male</td>\n",
              "      <td>2</td>\n",
              "      <td>free</td>\n",
              "      <td>little</td>\n",
              "      <td>little</td>\n",
              "      <td>7882</td>\n",
              "      <td>42</td>\n",
              "      <td>furniture/equipment</td>\n",
              "      <td>good</td>\n",
              "    </tr>\n",
              "    <tr>\n",
              "      <th>4</th>\n",
              "      <td>53</td>\n",
              "      <td>male</td>\n",
              "      <td>2</td>\n",
              "      <td>free</td>\n",
              "      <td>little</td>\n",
              "      <td>little</td>\n",
              "      <td>4870</td>\n",
              "      <td>24</td>\n",
              "      <td>car</td>\n",
              "      <td>bad</td>\n",
              "    </tr>\n",
              "  </tbody>\n",
              "</table>\n",
              "</div>"
            ],
            "text/plain": [
              "   Age     Sex  Job Housing  ... Credit amount Duration              Purpose  Risk\n",
              "0   67    male    2     own  ...          1169        6             radio/TV  good\n",
              "1   22  female    2     own  ...          5951       48             radio/TV   bad\n",
              "2   49    male    1     own  ...          2096       12            education  good\n",
              "3   45    male    2    free  ...          7882       42  furniture/equipment  good\n",
              "4   53    male    2    free  ...          4870       24                  car   bad\n",
              "\n",
              "[5 rows x 10 columns]"
            ]
          },
          "metadata": {
            "tags": []
          },
          "execution_count": 63
        }
      ]
    },
    {
      "cell_type": "markdown",
      "metadata": {
        "id": "JREq0z1rBdUT"
      },
      "source": [
        "## Data cleaning\n",
        "##### We can see Nan values and other unuseful columns so that we have to drop those. "
      ]
    },
    {
      "cell_type": "code",
      "metadata": {
        "colab": {
          "base_uri": "https://localhost:8080/"
        },
        "id": "wzfhXd7ZBnZ2",
        "outputId": "60c02e7a-d8a6-4de8-f53a-7ee7e3c4a859"
      },
      "source": [
        "df.isnull().sum()"
      ],
      "execution_count": 65,
      "outputs": [
        {
          "output_type": "execute_result",
          "data": {
            "text/plain": [
              "Age                   0\n",
              "Sex                   0\n",
              "Job                   0\n",
              "Housing               0\n",
              "Saving accounts     183\n",
              "Checking account    394\n",
              "Credit amount         0\n",
              "Duration              0\n",
              "Purpose               0\n",
              "Risk                  0\n",
              "dtype: int64"
            ]
          },
          "metadata": {
            "tags": []
          },
          "execution_count": 65
        }
      ]
    },
    {
      "cell_type": "code",
      "metadata": {
        "id": "djzVgc-oCDrB"
      },
      "source": [
        "df= df.dropna()"
      ],
      "execution_count": 66,
      "outputs": []
    },
    {
      "cell_type": "code",
      "metadata": {
        "colab": {
          "base_uri": "https://localhost:8080/"
        },
        "id": "vOw0qU2HCHMN",
        "outputId": "5c767407-ea1d-4ddc-bdcd-a9de7ded13c4"
      },
      "source": [
        "df.isnull().sum()"
      ],
      "execution_count": 67,
      "outputs": [
        {
          "output_type": "execute_result",
          "data": {
            "text/plain": [
              "Age                 0\n",
              "Sex                 0\n",
              "Job                 0\n",
              "Housing             0\n",
              "Saving accounts     0\n",
              "Checking account    0\n",
              "Credit amount       0\n",
              "Duration            0\n",
              "Purpose             0\n",
              "Risk                0\n",
              "dtype: int64"
            ]
          },
          "metadata": {
            "tags": []
          },
          "execution_count": 67
        }
      ]
    },
    {
      "cell_type": "code",
      "metadata": {
        "colab": {
          "base_uri": "https://localhost:8080/"
        },
        "id": "D_MSmuW-CIR7",
        "outputId": "dc2cb8ef-db3b-4d0d-b1e9-678ce95b6b33"
      },
      "source": [
        "df.dtypes"
      ],
      "execution_count": 68,
      "outputs": [
        {
          "output_type": "execute_result",
          "data": {
            "text/plain": [
              "Age                  int64\n",
              "Sex                 object\n",
              "Job                  int64\n",
              "Housing             object\n",
              "Saving accounts     object\n",
              "Checking account    object\n",
              "Credit amount        int64\n",
              "Duration             int64\n",
              "Purpose             object\n",
              "Risk                object\n",
              "dtype: object"
            ]
          },
          "metadata": {
            "tags": []
          },
          "execution_count": 68
        }
      ]
    },
    {
      "cell_type": "code",
      "metadata": {
        "id": "lncL0_NZEOe_"
      },
      "source": [
        "df=df.reset_index()"
      ],
      "execution_count": 71,
      "outputs": []
    },
    {
      "cell_type": "code",
      "metadata": {
        "id": "kM4fuGmuGl99"
      },
      "source": [
        "df=df.drop(['index'],axis=1)"
      ],
      "execution_count": 72,
      "outputs": []
    },
    {
      "cell_type": "code",
      "metadata": {
        "colab": {
          "base_uri": "https://localhost:8080/",
          "height": 419
        },
        "id": "BXd5F3JcGonr",
        "outputId": "bd0cc84e-0cc4-488c-b6e0-9e7a0ab8028a"
      },
      "source": [
        "df"
      ],
      "execution_count": 73,
      "outputs": [
        {
          "output_type": "execute_result",
          "data": {
            "text/html": [
              "<div>\n",
              "<style scoped>\n",
              "    .dataframe tbody tr th:only-of-type {\n",
              "        vertical-align: middle;\n",
              "    }\n",
              "\n",
              "    .dataframe tbody tr th {\n",
              "        vertical-align: top;\n",
              "    }\n",
              "\n",
              "    .dataframe thead th {\n",
              "        text-align: right;\n",
              "    }\n",
              "</style>\n",
              "<table border=\"1\" class=\"dataframe\">\n",
              "  <thead>\n",
              "    <tr style=\"text-align: right;\">\n",
              "      <th></th>\n",
              "      <th>Age</th>\n",
              "      <th>Sex</th>\n",
              "      <th>Job</th>\n",
              "      <th>Housing</th>\n",
              "      <th>Saving accounts</th>\n",
              "      <th>Checking account</th>\n",
              "      <th>Credit amount</th>\n",
              "      <th>Duration</th>\n",
              "      <th>Purpose</th>\n",
              "      <th>Risk</th>\n",
              "    </tr>\n",
              "  </thead>\n",
              "  <tbody>\n",
              "    <tr>\n",
              "      <th>0</th>\n",
              "      <td>22</td>\n",
              "      <td>female</td>\n",
              "      <td>2</td>\n",
              "      <td>own</td>\n",
              "      <td>little</td>\n",
              "      <td>moderate</td>\n",
              "      <td>5951</td>\n",
              "      <td>48</td>\n",
              "      <td>radio/TV</td>\n",
              "      <td>bad</td>\n",
              "    </tr>\n",
              "    <tr>\n",
              "      <th>1</th>\n",
              "      <td>45</td>\n",
              "      <td>male</td>\n",
              "      <td>2</td>\n",
              "      <td>free</td>\n",
              "      <td>little</td>\n",
              "      <td>little</td>\n",
              "      <td>7882</td>\n",
              "      <td>42</td>\n",
              "      <td>furniture/equipment</td>\n",
              "      <td>good</td>\n",
              "    </tr>\n",
              "    <tr>\n",
              "      <th>2</th>\n",
              "      <td>53</td>\n",
              "      <td>male</td>\n",
              "      <td>2</td>\n",
              "      <td>free</td>\n",
              "      <td>little</td>\n",
              "      <td>little</td>\n",
              "      <td>4870</td>\n",
              "      <td>24</td>\n",
              "      <td>car</td>\n",
              "      <td>bad</td>\n",
              "    </tr>\n",
              "    <tr>\n",
              "      <th>3</th>\n",
              "      <td>35</td>\n",
              "      <td>male</td>\n",
              "      <td>3</td>\n",
              "      <td>rent</td>\n",
              "      <td>little</td>\n",
              "      <td>moderate</td>\n",
              "      <td>6948</td>\n",
              "      <td>36</td>\n",
              "      <td>car</td>\n",
              "      <td>good</td>\n",
              "    </tr>\n",
              "    <tr>\n",
              "      <th>4</th>\n",
              "      <td>28</td>\n",
              "      <td>male</td>\n",
              "      <td>3</td>\n",
              "      <td>own</td>\n",
              "      <td>little</td>\n",
              "      <td>moderate</td>\n",
              "      <td>5234</td>\n",
              "      <td>30</td>\n",
              "      <td>car</td>\n",
              "      <td>bad</td>\n",
              "    </tr>\n",
              "    <tr>\n",
              "      <th>...</th>\n",
              "      <td>...</td>\n",
              "      <td>...</td>\n",
              "      <td>...</td>\n",
              "      <td>...</td>\n",
              "      <td>...</td>\n",
              "      <td>...</td>\n",
              "      <td>...</td>\n",
              "      <td>...</td>\n",
              "      <td>...</td>\n",
              "      <td>...</td>\n",
              "    </tr>\n",
              "    <tr>\n",
              "      <th>517</th>\n",
              "      <td>48</td>\n",
              "      <td>male</td>\n",
              "      <td>1</td>\n",
              "      <td>own</td>\n",
              "      <td>little</td>\n",
              "      <td>moderate</td>\n",
              "      <td>1743</td>\n",
              "      <td>24</td>\n",
              "      <td>radio/TV</td>\n",
              "      <td>good</td>\n",
              "    </tr>\n",
              "    <tr>\n",
              "      <th>518</th>\n",
              "      <td>30</td>\n",
              "      <td>male</td>\n",
              "      <td>3</td>\n",
              "      <td>own</td>\n",
              "      <td>little</td>\n",
              "      <td>little</td>\n",
              "      <td>3959</td>\n",
              "      <td>36</td>\n",
              "      <td>furniture/equipment</td>\n",
              "      <td>good</td>\n",
              "    </tr>\n",
              "    <tr>\n",
              "      <th>519</th>\n",
              "      <td>40</td>\n",
              "      <td>male</td>\n",
              "      <td>3</td>\n",
              "      <td>own</td>\n",
              "      <td>little</td>\n",
              "      <td>little</td>\n",
              "      <td>3857</td>\n",
              "      <td>30</td>\n",
              "      <td>car</td>\n",
              "      <td>good</td>\n",
              "    </tr>\n",
              "    <tr>\n",
              "      <th>520</th>\n",
              "      <td>23</td>\n",
              "      <td>male</td>\n",
              "      <td>2</td>\n",
              "      <td>free</td>\n",
              "      <td>little</td>\n",
              "      <td>little</td>\n",
              "      <td>1845</td>\n",
              "      <td>45</td>\n",
              "      <td>radio/TV</td>\n",
              "      <td>bad</td>\n",
              "    </tr>\n",
              "    <tr>\n",
              "      <th>521</th>\n",
              "      <td>27</td>\n",
              "      <td>male</td>\n",
              "      <td>2</td>\n",
              "      <td>own</td>\n",
              "      <td>moderate</td>\n",
              "      <td>moderate</td>\n",
              "      <td>4576</td>\n",
              "      <td>45</td>\n",
              "      <td>car</td>\n",
              "      <td>good</td>\n",
              "    </tr>\n",
              "  </tbody>\n",
              "</table>\n",
              "<p>522 rows × 10 columns</p>\n",
              "</div>"
            ],
            "text/plain": [
              "     Age     Sex  Job  ... Duration              Purpose  Risk\n",
              "0     22  female    2  ...       48             radio/TV   bad\n",
              "1     45    male    2  ...       42  furniture/equipment  good\n",
              "2     53    male    2  ...       24                  car   bad\n",
              "3     35    male    3  ...       36                  car  good\n",
              "4     28    male    3  ...       30                  car   bad\n",
              "..   ...     ...  ...  ...      ...                  ...   ...\n",
              "517   48    male    1  ...       24             radio/TV  good\n",
              "518   30    male    3  ...       36  furniture/equipment  good\n",
              "519   40    male    3  ...       30                  car  good\n",
              "520   23    male    2  ...       45             radio/TV   bad\n",
              "521   27    male    2  ...       45                  car  good\n",
              "\n",
              "[522 rows x 10 columns]"
            ]
          },
          "metadata": {
            "tags": []
          },
          "execution_count": 73
        }
      ]
    },
    {
      "cell_type": "code",
      "metadata": {
        "colab": {
          "base_uri": "https://localhost:8080/",
          "height": 419
        },
        "id": "1N888m88Ej80",
        "outputId": "3841534c-4527-431b-e639-5f9f7656c9de"
      },
      "source": [
        "from sklearn.preprocessing import LabelEncoder\n",
        "labelencoder = LabelEncoder()\n",
        "# If Risk = 0 bad or Risk = 1 good \n",
        "df['Risk'] = labelencoder.fit_transform(df['Risk'])\n",
        "df"
      ],
      "execution_count": 75,
      "outputs": [
        {
          "output_type": "execute_result",
          "data": {
            "text/html": [
              "<div>\n",
              "<style scoped>\n",
              "    .dataframe tbody tr th:only-of-type {\n",
              "        vertical-align: middle;\n",
              "    }\n",
              "\n",
              "    .dataframe tbody tr th {\n",
              "        vertical-align: top;\n",
              "    }\n",
              "\n",
              "    .dataframe thead th {\n",
              "        text-align: right;\n",
              "    }\n",
              "</style>\n",
              "<table border=\"1\" class=\"dataframe\">\n",
              "  <thead>\n",
              "    <tr style=\"text-align: right;\">\n",
              "      <th></th>\n",
              "      <th>Age</th>\n",
              "      <th>Sex</th>\n",
              "      <th>Job</th>\n",
              "      <th>Housing</th>\n",
              "      <th>Saving accounts</th>\n",
              "      <th>Checking account</th>\n",
              "      <th>Credit amount</th>\n",
              "      <th>Duration</th>\n",
              "      <th>Purpose</th>\n",
              "      <th>Risk</th>\n",
              "    </tr>\n",
              "  </thead>\n",
              "  <tbody>\n",
              "    <tr>\n",
              "      <th>0</th>\n",
              "      <td>22</td>\n",
              "      <td>female</td>\n",
              "      <td>2</td>\n",
              "      <td>own</td>\n",
              "      <td>little</td>\n",
              "      <td>moderate</td>\n",
              "      <td>5951</td>\n",
              "      <td>48</td>\n",
              "      <td>radio/TV</td>\n",
              "      <td>0</td>\n",
              "    </tr>\n",
              "    <tr>\n",
              "      <th>1</th>\n",
              "      <td>45</td>\n",
              "      <td>male</td>\n",
              "      <td>2</td>\n",
              "      <td>free</td>\n",
              "      <td>little</td>\n",
              "      <td>little</td>\n",
              "      <td>7882</td>\n",
              "      <td>42</td>\n",
              "      <td>furniture/equipment</td>\n",
              "      <td>1</td>\n",
              "    </tr>\n",
              "    <tr>\n",
              "      <th>2</th>\n",
              "      <td>53</td>\n",
              "      <td>male</td>\n",
              "      <td>2</td>\n",
              "      <td>free</td>\n",
              "      <td>little</td>\n",
              "      <td>little</td>\n",
              "      <td>4870</td>\n",
              "      <td>24</td>\n",
              "      <td>car</td>\n",
              "      <td>0</td>\n",
              "    </tr>\n",
              "    <tr>\n",
              "      <th>3</th>\n",
              "      <td>35</td>\n",
              "      <td>male</td>\n",
              "      <td>3</td>\n",
              "      <td>rent</td>\n",
              "      <td>little</td>\n",
              "      <td>moderate</td>\n",
              "      <td>6948</td>\n",
              "      <td>36</td>\n",
              "      <td>car</td>\n",
              "      <td>1</td>\n",
              "    </tr>\n",
              "    <tr>\n",
              "      <th>4</th>\n",
              "      <td>28</td>\n",
              "      <td>male</td>\n",
              "      <td>3</td>\n",
              "      <td>own</td>\n",
              "      <td>little</td>\n",
              "      <td>moderate</td>\n",
              "      <td>5234</td>\n",
              "      <td>30</td>\n",
              "      <td>car</td>\n",
              "      <td>0</td>\n",
              "    </tr>\n",
              "    <tr>\n",
              "      <th>...</th>\n",
              "      <td>...</td>\n",
              "      <td>...</td>\n",
              "      <td>...</td>\n",
              "      <td>...</td>\n",
              "      <td>...</td>\n",
              "      <td>...</td>\n",
              "      <td>...</td>\n",
              "      <td>...</td>\n",
              "      <td>...</td>\n",
              "      <td>...</td>\n",
              "    </tr>\n",
              "    <tr>\n",
              "      <th>517</th>\n",
              "      <td>48</td>\n",
              "      <td>male</td>\n",
              "      <td>1</td>\n",
              "      <td>own</td>\n",
              "      <td>little</td>\n",
              "      <td>moderate</td>\n",
              "      <td>1743</td>\n",
              "      <td>24</td>\n",
              "      <td>radio/TV</td>\n",
              "      <td>1</td>\n",
              "    </tr>\n",
              "    <tr>\n",
              "      <th>518</th>\n",
              "      <td>30</td>\n",
              "      <td>male</td>\n",
              "      <td>3</td>\n",
              "      <td>own</td>\n",
              "      <td>little</td>\n",
              "      <td>little</td>\n",
              "      <td>3959</td>\n",
              "      <td>36</td>\n",
              "      <td>furniture/equipment</td>\n",
              "      <td>1</td>\n",
              "    </tr>\n",
              "    <tr>\n",
              "      <th>519</th>\n",
              "      <td>40</td>\n",
              "      <td>male</td>\n",
              "      <td>3</td>\n",
              "      <td>own</td>\n",
              "      <td>little</td>\n",
              "      <td>little</td>\n",
              "      <td>3857</td>\n",
              "      <td>30</td>\n",
              "      <td>car</td>\n",
              "      <td>1</td>\n",
              "    </tr>\n",
              "    <tr>\n",
              "      <th>520</th>\n",
              "      <td>23</td>\n",
              "      <td>male</td>\n",
              "      <td>2</td>\n",
              "      <td>free</td>\n",
              "      <td>little</td>\n",
              "      <td>little</td>\n",
              "      <td>1845</td>\n",
              "      <td>45</td>\n",
              "      <td>radio/TV</td>\n",
              "      <td>0</td>\n",
              "    </tr>\n",
              "    <tr>\n",
              "      <th>521</th>\n",
              "      <td>27</td>\n",
              "      <td>male</td>\n",
              "      <td>2</td>\n",
              "      <td>own</td>\n",
              "      <td>moderate</td>\n",
              "      <td>moderate</td>\n",
              "      <td>4576</td>\n",
              "      <td>45</td>\n",
              "      <td>car</td>\n",
              "      <td>1</td>\n",
              "    </tr>\n",
              "  </tbody>\n",
              "</table>\n",
              "<p>522 rows × 10 columns</p>\n",
              "</div>"
            ],
            "text/plain": [
              "     Age     Sex  Job  ... Duration              Purpose Risk\n",
              "0     22  female    2  ...       48             radio/TV    0\n",
              "1     45    male    2  ...       42  furniture/equipment    1\n",
              "2     53    male    2  ...       24                  car    0\n",
              "3     35    male    3  ...       36                  car    1\n",
              "4     28    male    3  ...       30                  car    0\n",
              "..   ...     ...  ...  ...      ...                  ...  ...\n",
              "517   48    male    1  ...       24             radio/TV    1\n",
              "518   30    male    3  ...       36  furniture/equipment    1\n",
              "519   40    male    3  ...       30                  car    1\n",
              "520   23    male    2  ...       45             radio/TV    0\n",
              "521   27    male    2  ...       45                  car    1\n",
              "\n",
              "[522 rows x 10 columns]"
            ]
          },
          "metadata": {
            "tags": []
          },
          "execution_count": 75
        }
      ]
    },
    {
      "cell_type": "markdown",
      "metadata": {
        "id": "76JnVOynIWGJ"
      },
      "source": [
        "## Build Dataloaders"
      ]
    },
    {
      "cell_type": "markdown",
      "metadata": {
        "id": "wuCeSX2DIfcZ"
      },
      "source": [
        "The dataloaders needs to know which features are continuous and which are categorical. There is a convenient method `cont_cat_split` that does this for us. These columns will be used to determine how to transform the data.\n",
        "\n",
        "Just like images, Fast.ai has a feature to do preprocessing automatically. The `procs` argument is used to tell the dataloaders what preprocessing to do. \n",
        "\n",
        "Neural network perform better if the data is normalized. Also, we need to ensure NaN values are filled, and that the categorical features are encoded. We can specify the preprocessing steps as such."
      ]
    },
    {
      "cell_type": "code",
      "metadata": {
        "id": "6cre5NN3Cfgd"
      },
      "source": [
        "cont, cat = cont_cat_split(df, 1, dep_var='Risk')\n",
        "procs = [Categorify, FillMissing, Normalize]"
      ],
      "execution_count": 76,
      "outputs": []
    },
    {
      "cell_type": "markdown",
      "metadata": {
        "id": "bOzawCM8Ii9y"
      },
      "source": [
        "We need to tell the dataloaders which rows will be used for the validation set. I used a random sampler built into Pandas and grabbed the indexes. "
      ]
    },
    {
      "cell_type": "code",
      "metadata": {
        "id": "y5ZUawODCnS_"
      },
      "source": [
        "valid_idx = df.sample(frac=0.1, random_state=42).index.values"
      ],
      "execution_count": 77,
      "outputs": []
    },
    {
      "cell_type": "code",
      "metadata": {
        "colab": {
          "base_uri": "https://localhost:8080/"
        },
        "id": "S915OqoXC0y-",
        "outputId": "147a8608-2c3a-497a-dac2-648deb278b4b"
      },
      "source": [
        "path = Path('/content/drive/MyDrive/Colab Notebooks/khan')\n",
        "Path.BASE_PATH = path\n",
        "path.is_absolute()"
      ],
      "execution_count": 128,
      "outputs": [
        {
          "output_type": "execute_result",
          "data": {
            "text/plain": [
              "True"
            ]
          },
          "metadata": {
            "tags": []
          },
          "execution_count": 128
        }
      ]
    },
    {
      "cell_type": "markdown",
      "metadata": {
        "id": "7d_5-LUiIqOn"
      },
      "source": [
        "Now we can build our dataloaders!"
      ]
    },
    {
      "cell_type": "code",
      "metadata": {
        "id": "hQrCSrOvCpRg"
      },
      "source": [
        "dls = TabularDataLoaders.from_df(df, \n",
        "                                 path, \n",
        "                                 procs=procs, \n",
        "                                 cat_names=cat, \n",
        "                                 cont_names=cont, \n",
        "                                 y_names=\"Risk\", \n",
        "                                 valid_idx=valid_idx, \n",
        "                                 bs=64)"
      ],
      "execution_count": 81,
      "outputs": []
    },
    {
      "cell_type": "code",
      "metadata": {
        "colab": {
          "base_uri": "https://localhost:8080/",
          "height": 376
        },
        "id": "jQO02ocjCsS-",
        "outputId": "1a30073d-9353-4578-9c27-7878c38ad73e"
      },
      "source": [
        "dls.show_batch()"
      ],
      "execution_count": 82,
      "outputs": [
        {
          "output_type": "display_data",
          "data": {
            "text/html": [
              "<table border=\"1\" class=\"dataframe\">\n",
              "  <thead>\n",
              "    <tr style=\"text-align: right;\">\n",
              "      <th></th>\n",
              "      <th>Sex</th>\n",
              "      <th>Housing</th>\n",
              "      <th>Saving accounts</th>\n",
              "      <th>Checking account</th>\n",
              "      <th>Purpose</th>\n",
              "      <th>Age</th>\n",
              "      <th>Job</th>\n",
              "      <th>Credit amount</th>\n",
              "      <th>Duration</th>\n",
              "      <th>Risk</th>\n",
              "    </tr>\n",
              "  </thead>\n",
              "  <tbody>\n",
              "    <tr>\n",
              "      <th>0</th>\n",
              "      <td>male</td>\n",
              "      <td>rent</td>\n",
              "      <td>little</td>\n",
              "      <td>little</td>\n",
              "      <td>business</td>\n",
              "      <td>36.000000</td>\n",
              "      <td>2.000000e+00</td>\n",
              "      <td>7297.000158</td>\n",
              "      <td>60.000001</td>\n",
              "      <td>0.0</td>\n",
              "    </tr>\n",
              "    <tr>\n",
              "      <th>1</th>\n",
              "      <td>male</td>\n",
              "      <td>own</td>\n",
              "      <td>little</td>\n",
              "      <td>moderate</td>\n",
              "      <td>radio/TV</td>\n",
              "      <td>33.000000</td>\n",
              "      <td>2.000000e+00</td>\n",
              "      <td>6402.999899</td>\n",
              "      <td>24.000000</td>\n",
              "      <td>1.0</td>\n",
              "    </tr>\n",
              "    <tr>\n",
              "      <th>2</th>\n",
              "      <td>male</td>\n",
              "      <td>own</td>\n",
              "      <td>little</td>\n",
              "      <td>moderate</td>\n",
              "      <td>car</td>\n",
              "      <td>30.000000</td>\n",
              "      <td>2.000000e+00</td>\n",
              "      <td>1055.999998</td>\n",
              "      <td>18.000000</td>\n",
              "      <td>0.0</td>\n",
              "    </tr>\n",
              "    <tr>\n",
              "      <th>3</th>\n",
              "      <td>female</td>\n",
              "      <td>rent</td>\n",
              "      <td>little</td>\n",
              "      <td>moderate</td>\n",
              "      <td>car</td>\n",
              "      <td>26.000000</td>\n",
              "      <td>-1.617087e-08</td>\n",
              "      <td>1777.999949</td>\n",
              "      <td>15.000000</td>\n",
              "      <td>0.0</td>\n",
              "    </tr>\n",
              "    <tr>\n",
              "      <th>4</th>\n",
              "      <td>female</td>\n",
              "      <td>rent</td>\n",
              "      <td>quite rich</td>\n",
              "      <td>moderate</td>\n",
              "      <td>radio/TV</td>\n",
              "      <td>23.000000</td>\n",
              "      <td>-1.617087e-08</td>\n",
              "      <td>3758.000014</td>\n",
              "      <td>24.000000</td>\n",
              "      <td>1.0</td>\n",
              "    </tr>\n",
              "    <tr>\n",
              "      <th>5</th>\n",
              "      <td>male</td>\n",
              "      <td>free</td>\n",
              "      <td>little</td>\n",
              "      <td>moderate</td>\n",
              "      <td>car</td>\n",
              "      <td>55.000000</td>\n",
              "      <td>3.000000e+00</td>\n",
              "      <td>9283.000025</td>\n",
              "      <td>41.999999</td>\n",
              "      <td>1.0</td>\n",
              "    </tr>\n",
              "    <tr>\n",
              "      <th>6</th>\n",
              "      <td>male</td>\n",
              "      <td>free</td>\n",
              "      <td>little</td>\n",
              "      <td>little</td>\n",
              "      <td>car</td>\n",
              "      <td>34.000000</td>\n",
              "      <td>3.000000e+00</td>\n",
              "      <td>2910.000019</td>\n",
              "      <td>24.000000</td>\n",
              "      <td>1.0</td>\n",
              "    </tr>\n",
              "    <tr>\n",
              "      <th>7</th>\n",
              "      <td>female</td>\n",
              "      <td>rent</td>\n",
              "      <td>little</td>\n",
              "      <td>little</td>\n",
              "      <td>furniture/equipment</td>\n",
              "      <td>20.000000</td>\n",
              "      <td>2.000000e+00</td>\n",
              "      <td>1281.999984</td>\n",
              "      <td>12.000000</td>\n",
              "      <td>0.0</td>\n",
              "    </tr>\n",
              "    <tr>\n",
              "      <th>8</th>\n",
              "      <td>male</td>\n",
              "      <td>free</td>\n",
              "      <td>little</td>\n",
              "      <td>little</td>\n",
              "      <td>car</td>\n",
              "      <td>39.000000</td>\n",
              "      <td>3.000000e+00</td>\n",
              "      <td>3248.999999</td>\n",
              "      <td>35.999999</td>\n",
              "      <td>1.0</td>\n",
              "    </tr>\n",
              "    <tr>\n",
              "      <th>9</th>\n",
              "      <td>male</td>\n",
              "      <td>own</td>\n",
              "      <td>quite rich</td>\n",
              "      <td>moderate</td>\n",
              "      <td>radio/TV</td>\n",
              "      <td>66.000001</td>\n",
              "      <td>1.000000e+00</td>\n",
              "      <td>765.999942</td>\n",
              "      <td>12.000000</td>\n",
              "      <td>0.0</td>\n",
              "    </tr>\n",
              "  </tbody>\n",
              "</table>"
            ],
            "text/plain": [
              "<IPython.core.display.HTML object>"
            ]
          },
          "metadata": {
            "tags": []
          }
        }
      ]
    },
    {
      "cell_type": "markdown",
      "metadata": {
        "id": "dvNmN__EI0yk"
      },
      "source": [
        "By default Fast.ai uses 2 hidden layers, with 200 and 100 activations. With a larger dataset i will get better results with larger activation sizes (500 and 250). But in this situation we have a smaller dataset so i reduced layers."
      ]
    },
    {
      "cell_type": "code",
      "metadata": {
        "id": "_ja2AEq5E7fb"
      },
      "source": [
        "learn = tabular_learner(dls, metrics=mse, layers=[200,100])"
      ],
      "execution_count": 95,
      "outputs": []
    },
    {
      "cell_type": "code",
      "metadata": {
        "colab": {
          "base_uri": "https://localhost:8080/",
          "height": 283
        },
        "id": "B__T2E_7FAxy",
        "outputId": "9e5b9c78-a7a1-4496-9321-1cfe36282488"
      },
      "source": [
        "lr_min, lr_steep = learn.lr_find()"
      ],
      "execution_count": 96,
      "outputs": [
        {
          "output_type": "display_data",
          "data": {
            "text/html": [
              ""
            ],
            "text/plain": [
              "<IPython.core.display.HTML object>"
            ]
          },
          "metadata": {
            "tags": []
          }
        },
        {
          "output_type": "display_data",
          "data": {
            "image/png": "[encoded data removed]",
            "text/plain": [
              "<Figure size 432x288 with 1 Axes>"
            ]
          },
          "metadata": {
            "tags": [],
            "needs_background": "light"
          }
        }
      ]
    },
    {
      "cell_type": "code",
      "metadata": {
        "colab": {
          "base_uri": "https://localhost:8080/",
          "height": 204
        },
        "id": "yUfiv7tKFDWG",
        "outputId": "9e46214a-6fc4-440f-f047-44d8a4793ce2"
      },
      "source": [
        "learn.fit_one_cycle(5, lr_min)"
      ],
      "execution_count": 97,
      "outputs": [
        {
          "output_type": "display_data",
          "data": {
            "text/html": [
              "<table border=\"1\" class=\"dataframe\">\n",
              "  <thead>\n",
              "    <tr style=\"text-align: left;\">\n",
              "      <th>epoch</th>\n",
              "      <th>train_loss</th>\n",
              "      <th>valid_loss</th>\n",
              "      <th>mse</th>\n",
              "      <th>time</th>\n",
              "    </tr>\n",
              "  </thead>\n",
              "  <tbody>\n",
              "    <tr>\n",
              "      <td>0</td>\n",
              "      <td>0.555147</td>\n",
              "      <td>0.405504</td>\n",
              "      <td>0.405504</td>\n",
              "      <td>00:00</td>\n",
              "    </tr>\n",
              "    <tr>\n",
              "      <td>1</td>\n",
              "      <td>0.418798</td>\n",
              "      <td>0.374921</td>\n",
              "      <td>0.374921</td>\n",
              "      <td>00:00</td>\n",
              "    </tr>\n",
              "    <tr>\n",
              "      <td>2</td>\n",
              "      <td>0.356803</td>\n",
              "      <td>0.332092</td>\n",
              "      <td>0.332092</td>\n",
              "      <td>00:00</td>\n",
              "    </tr>\n",
              "    <tr>\n",
              "      <td>3</td>\n",
              "      <td>0.308997</td>\n",
              "      <td>0.288936</td>\n",
              "      <td>0.288936</td>\n",
              "      <td>00:00</td>\n",
              "    </tr>\n",
              "    <tr>\n",
              "      <td>4</td>\n",
              "      <td>0.274421</td>\n",
              "      <td>0.273999</td>\n",
              "      <td>0.273999</td>\n",
              "      <td>00:00</td>\n",
              "    </tr>\n",
              "  </tbody>\n",
              "</table>"
            ],
            "text/plain": [
              "<IPython.core.display.HTML object>"
            ]
          },
          "metadata": {
            "tags": []
          }
        }
      ]
    },
    {
      "cell_type": "markdown",
      "metadata": {
        "id": "7Bq_JkifJWfn"
      },
      "source": [
        "Result shows us that our model works with 27% loss rate which means our accuracy is 73%."
      ]
    }
  ]
}